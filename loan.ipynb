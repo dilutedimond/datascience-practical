{
 "cells": [
  {
   "cell_type": "code",
   "execution_count": 7,
   "metadata": {
    "scrolled": true
   },
   "outputs": [
    {
     "name": "stdout",
     "output_type": "stream",
     "text": [
      "enter your cibil score : 567\n",
      "enter your age : 23\n",
      "enter your employment status as \"EMPLOYED\" or \"UEMPLOYED\" , use capital letters only : UNEMPLOYED\n",
      "enter your minimum monthly income : 5000\n",
      "enter your work experience : 2\n",
      "enter \"YES\" if you agree with that your emi per month can go upto 65% of your monthly income : NO\n",
      "enter \"YES\" if your employment type is one of the following ,Salaried, Business owner, Self-employed professional Retired, Student  Home maker other wise type \"NO\" : NO\n",
      "CIBIL: ineligible ,very low CIBIL score\n",
      "AGE LIMIT:eligible\n",
      "EMPLOYMENT STATUS:ineligible,you should be employed\n",
      "INCOME PER MONTH:eligible\n",
      "WORK EXPERIENCE: eligible\n",
      "MAXIMUM EMI : ineligible, maximum emi can be upto 65% percent of income\n",
      "EMPLOYMENT_TYPE: ineligible, not the mentioned employment type\n"
     ]
    },
    {
     "data": {
      "text/plain": [
       "'INELIGIBLE,you are ineligible for the loan'"
      ]
     },
     "execution_count": 7,
     "metadata": {},
     "output_type": "execute_result"
    }
   ],
   "source": [
    "loan_amount=input('enter the loan amount you want')\n",
    "cibil=int(input('enter your cibil score : '))\n",
    "age=int(input('enter your age : '))\n",
    "employment=input('enter your employment status as \"EMPLOYED\" or \"UEMPLOYED\" , use capital letters only : ')\n",
    "income=int(input('enter your minimum monthly income : '))\n",
    "work=int(input('enter your work experience : '))\n",
    "emi=input('enter \"YES\" if you agree with that your emi per month can go upto 65% of your monthly income : ')\n",
    "employment_type=input('enter \"YES\" if your employment type is one of the following ,Salaried, Business owner, Self-employed professional Retired, Student,  Home maker, other wise type \"NO\" : ')\n",
    "\n",
    "def loan_approval(loan_amount,cibil,age,employment,income,Work,emi,employment_type):\n",
    "    score=0\n",
    "    if loan_amount<=\n",
    "    if cibil>=750:\n",
    "        print('CIBIL:ELIGIBLE ,got a nice cibil score')\n",
    "        score+=1\n",
    "    else:\n",
    "        print('CIBIL: ineligible , low CIBIL score')\n",
    "        \n",
    "    if 21<=age<=68:\n",
    "        print('AGE LIMIT:eligible')\n",
    "        score+=1\n",
    "    else:\n",
    "        print('AGE LIMIT:ineligible ,age limit exceeded')\n",
    "        \n",
    "    if employment=='EMPLOYED':\n",
    "        print('EMPLOYMENT STATUS:eligible')\n",
    "        score+=1\n",
    "    else:\n",
    "        print('EMPLOYMENT STATUS:ineligible,you should be employed')\n",
    "        \n",
    "    if income>=5000:\n",
    "        print('INCOME PER MONTH:eligible')\n",
    "        score+=1\n",
    "    else:\n",
    "        print('INCOME PER MONTH: ineligible , your monthly income is low')\n",
    "        \n",
    "    if work>=2:\n",
    "        print('WORK EXPERIENCE: eligible')\n",
    "        score+=1\n",
    "    else:\n",
    "        print('WORK EXPERINCE: ineligible, low work experience')\n",
    "        \n",
    "    if emi=='YES':\n",
    "        print('MAXIMUM EMI:eligible')\n",
    "        score+=1\n",
    "    else:\n",
    "        print('MAXIMUM EMI : ineligible, maximum emi can be upto 65% percent of income')\n",
    "        \n",
    "    if employment_type=='YES':\n",
    "        print('EMPLOYMENT_TYPE: eligible')\n",
    "        score+=1\n",
    "    else:\n",
    "        print('EMPLOYMENT_TYPE: ineligible, not the mentioned employment type')\n",
    "        \n",
    "    return 'ELIGIBLE , you are eligible for the loan approval' if score==7 else 'INELIGIBLE,you are ineligible for the loan approval'    \n",
    "loan_approval(cibil,age,employment,income,work,emi,employment_type)       "
   ]
  }
 ],
 "metadata": {
  "kernelspec": {
   "display_name": "Python 3",
   "language": "python",
   "name": "python3"
  },
  "language_info": {
   "codemirror_mode": {
    "name": "ipython",
    "version": 3
   },
   "file_extension": ".py",
   "mimetype": "text/x-python",
   "name": "python",
   "nbconvert_exporter": "python",
   "pygments_lexer": "ipython3",
   "version": "3.8.3"
  }
 },
 "nbformat": 4,
 "nbformat_minor": 4
}
